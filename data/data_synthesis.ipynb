{
 "cells": [
  {
   "cell_type": "markdown",
   "id": "0d243fd3",
   "metadata": {},
   "source": [
    "### 각자의 데이터를 합침 "
   ]
  },
  {
   "cell_type": "code",
   "execution_count": 10,
   "id": "1f58c3be",
   "metadata": {},
   "outputs": [],
   "source": [
    "import json\n",
    "from typing import List\n",
    "\n",
    "def synthesize_json_and_jsonl(json_file: str, jsonl_files: List[str], output_file: str):\n",
    "    \n",
    "    data = []\n",
    "\n",
    "    # 훈 JSON 파일 로드\n",
    "    with open(json_file, \"r\", encoding=\"utf-8\") as f:\n",
    "        data.extend(json.load(f))\n",
    "\n",
    "    # 가은, 민정 JSONL 로드\n",
    "    for jf in jsonl_files:\n",
    "        with open(jf, \"r\", encoding=\"utf-8\") as f:\n",
    "            for line in f:\n",
    "                if line.strip():  # 빈 줄 건너뛰기\n",
    "                    data.append(json.loads(line))\n",
    "\n",
    "    # JSONL로 최종 저장\n",
    "    with open(output_file, \"w\", encoding=\"utf-8\") as f:\n",
    "        for record in data:\n",
    "            f.write(json.dumps(record, ensure_ascii=False) + \"\\n\")\n",
    "\n",
    "    return data"
   ]
  },
  {
   "cell_type": "code",
   "execution_count": 13,
   "id": "639608a1",
   "metadata": {},
   "outputs": [],
   "source": [
    "combined_data = synthesize_json_and_jsonl(\"hoon_raw_data.json\", [\"mj_raw_data.jsonl\", \"gn_raw_data.jsonl\"], \"combined_data.jsonl\")"
   ]
  },
  {
   "cell_type": "code",
   "execution_count": null,
   "id": "3992f17c",
   "metadata": {},
   "outputs": [],
   "source": []
  }
 ],
 "metadata": {
  "kernelspec": {
   "display_name": "project3_env",
   "language": "python",
   "name": "python3"
  },
  "language_info": {
   "codemirror_mode": {
    "name": "ipython",
    "version": 3
   },
   "file_extension": ".py",
   "mimetype": "text/x-python",
   "name": "python",
   "nbconvert_exporter": "python",
   "pygments_lexer": "ipython3",
   "version": "3.12.11"
  }
 },
 "nbformat": 4,
 "nbformat_minor": 5
}
